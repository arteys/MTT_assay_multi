{
 "cells": [
  {
   "cell_type": "code",
   "execution_count": null,
   "metadata": {},
   "outputs": [],
   "source": [
    "import pandas as pd\n",
    "import seaborn as sns\n",
    "from statannotations.Annotator import Annotator\n",
    "import os\n",
    "from os import walk"
   ]
  },
  {
   "cell_type": "code",
   "execution_count": null,
   "metadata": {},
   "outputs": [],
   "source": [
    "def excel_to_pd(data_pd,data_pd_i,current_pd, cell_type, substance):\n",
    "\n",
    "    for label, content in current_pd.items():\n",
    "       \n",
    "\n",
    "        data_pd_i['OD'] = content\n",
    "        data_pd_i['Cell_type'] = cell_type\n",
    "        data_pd_i['Substance'] = substance\n",
    "        data_pd_i['Concentration'] = label\n",
    "\n",
    "        data_pd = pd.concat([data_pd,data_pd_i])\n",
    "    return data_pd"
   ]
  },
  {
   "cell_type": "code",
   "execution_count": null,
   "metadata": {},
   "outputs": [],
   "source": [
    "\n",
    "folder_path = \"D:\\\\Минин\\\\Converted\\\\Belskaya\"\n",
    "\n",
    "files = []\n",
    "for (dirpath, dirnames, filenames) in walk(folder_path):\n",
    "    for file in filenames:\n",
    "        files.append(os.path.join(dirpath, file))\n",
    "\n",
    "print(files)"
   ]
  },
  {
   "cell_type": "code",
   "execution_count": null,
   "metadata": {},
   "outputs": [],
   "source": [
    "labels = {'OD':[],'Cell_type':[],'Substance':[],'Concentration':[]}\n",
    "data_pd = pd.DataFrame(labels)\n",
    "data_pd_i = pd.DataFrame(labels)\n",
    "\n",
    "for file in files:\n",
    "   file_name_ext = os.path.basename(file)\n",
    "   file_name,extention = file_name_ext.split(\".\")\n",
    "\n",
    "   file_raw = pd.read_excel(file) \n",
    "\n",
    "   data_pd = excel_to_pd(data_pd,data_pd_i,file_raw,'Vero',file_name)\n",
    "\n",
    "print(data_pd)"
   ]
  },
  {
   "cell_type": "code",
   "execution_count": null,
   "metadata": {},
   "outputs": [],
   "source": [
    "data_ext = data_pd[(data_pd['Cell_type'] == 'Vero')].copy()\n",
    "\n",
    "sns.barplot(data = data_ext, x = 'Substance', y = 'OD', hue = 'Concentration')"
   ]
  },
  {
   "attachments": {},
   "cell_type": "markdown",
   "metadata": {},
   "source": [
    "Recalculation to relative values:"
   ]
  },
  {
   "cell_type": "code",
   "execution_count": null,
   "metadata": {},
   "outputs": [],
   "source": [
    "data_ext = data_pd[(data_pd['Cell_type'] == 'Vero')].copy()\n",
    "substances_list = data_pd['Substance'].unique()\n",
    "\n",
    "labels = {'OD':[],'Relative':[],'Substance':[],'Concentration':[]}\n",
    "data = pd.DataFrame(labels)\n",
    "\n",
    "for substance in substances_list:\n",
    "    data_i = data_ext[(data_ext['Substance'] == substance)]\n",
    "    control_mean = data_i.loc[data_i['Concentration']=='Control', 'OD'].mean()\n",
    "    data_i['Relative'] = data_i['OD']/control_mean*100\n",
    "    data = pd.concat([data,data_i])\n",
    "  \n",
    "print(data)"
   ]
  },
  {
   "cell_type": "code",
   "execution_count": 85,
   "metadata": {},
   "outputs": [
    {
     "name": "stdout",
     "output_type": "stream",
     "text": [
      "['BNTM-349 UV' 'BNTM-349' 'BNTM-418 UV' 'BNTM-477 UV' 'BNTM-495'\n",
      " 'BNTM-494' 'BNAB-110' 'BNPGA-330' 'BNPGA-422' 'BNPGA-528' 'Amb'\n",
      " 'BNPGA-416' 'BNPGA-357' 'BNKV-267' 'BNPGA-418' 'BNPGA-477']\n",
      "[(('BNPGA-357', '10-4'), ('BNPGA-357', 'Control')), (('BNPGA-357', '10-5'), ('BNPGA-357', 'Control')), (('BNPGA-357', '10-6'), ('BNPGA-357', 'Control')), (('BNPGA-357', 'Control'), ('BNPGA-357', 'Control')), (('BNPGA-418', '10-4'), ('BNPGA-418', 'Control')), (('BNPGA-418', '10-5'), ('BNPGA-418', 'Control')), (('BNPGA-418', '10-6'), ('BNPGA-418', 'Control')), (('BNPGA-418', 'Control'), ('BNPGA-418', 'Control'))]\n"
     ]
    }
   ],
   "source": [
    "unique_substances= data['Substance'].unique()\n",
    "print(unique_substances)\n",
    "\n",
    "extracted_data = data[(data['Substance'] == 'BNPGA-418') | (data['Substance'] == 'BNPGA-357')].copy()\n",
    "\n",
    "unique_concentrations= extracted_data['Concentration'].unique()\n",
    "unique_substances= extracted_data['Substance'].unique()\n",
    "\n",
    "pairs = []\n",
    "for subst in unique_substances:\n",
    "    for conc in unique_concentrations:\n",
    "        # if conc == 'Control':\n",
    "        #     break\n",
    "        pairs.append(((subst,conc),(subst,'Control')))\n",
    "        \n",
    "\n",
    "print(pairs)\n"
   ]
  },
  {
   "cell_type": "code",
   "execution_count": 86,
   "metadata": {},
   "outputs": [
    {
     "name": "stdout",
     "output_type": "stream",
     "text": [
      "p-value annotation legend:\n",
      "      ns: p <= 1.00e+00\n",
      "       *: 1.00e-02 < p <= 5.00e-02\n",
      "      **: 1.00e-03 < p <= 1.00e-02\n",
      "     ***: 1.00e-04 < p <= 1.00e-03\n",
      "    ****: p <= 1.00e-04\n",
      "\n",
      "BNPGA-357_Control vs. BNPGA-357_Control: Mann-Whitney-Wilcoxon test two-sided with Bonferroni correction, P_val:1.000e+00 U_stat=2.880e+02\n",
      "BNPGA-418_Control vs. BNPGA-418_Control: Mann-Whitney-Wilcoxon test two-sided with Bonferroni correction, P_val:1.000e+00 U_stat=7.200e+01\n",
      "BNPGA-418_10-6 vs. BNPGA-418_Control: Mann-Whitney-Wilcoxon test two-sided with Bonferroni correction, P_val:1.000e+00 U_stat=8.200e+01\n",
      "BNPGA-357_10-6 vs. BNPGA-357_Control: Mann-Whitney-Wilcoxon test two-sided with Bonferroni correction, P_val:1.000e+00 U_stat=3.060e+02\n",
      "BNPGA-357_10-5 vs. BNPGA-357_Control: Mann-Whitney-Wilcoxon test two-sided with Bonferroni correction, P_val:1.000e+00 U_stat=3.040e+02\n",
      "BNPGA-418_10-5 vs. BNPGA-418_Control: Mann-Whitney-Wilcoxon test two-sided with Bonferroni correction, P_val:1.211e-03 U_stat=1.800e+01\n",
      "BNPGA-357_10-4 vs. BNPGA-357_Control: Mann-Whitney-Wilcoxon test two-sided with Bonferroni correction, P_val:1.000e+00 U_stat=3.350e+02\n",
      "BNPGA-418_10-4 vs. BNPGA-418_Control: Mann-Whitney-Wilcoxon test two-sided with Bonferroni correction, P_val:2.927e-04 U_stat=0.000e+00\n"
     ]
    },
    {
     "data": {
      "text/plain": [
       "(<AxesSubplot: xlabel='Substance', ylabel='Viable cell, % of control'>,\n",
       " [<statannotations.Annotation.Annotation at 0x23cd894b6a0>,\n",
       "  <statannotations.Annotation.Annotation at 0x23cd8aa6890>,\n",
       "  <statannotations.Annotation.Annotation at 0x23cd8a4dab0>,\n",
       "  <statannotations.Annotation.Annotation at 0x23cd8a4e140>,\n",
       "  <statannotations.Annotation.Annotation at 0x23cd9b73f10>,\n",
       "  <statannotations.Annotation.Annotation at 0x23cd8a4e110>,\n",
       "  <statannotations.Annotation.Annotation at 0x23cd8a4c7c0>,\n",
       "  <statannotations.Annotation.Annotation at 0x23cd9b9c9a0>])"
      ]
     },
     "execution_count": 86,
     "metadata": {},
     "output_type": "execute_result"
    },
    {
     "data": {
      "image/png": "[encoded data removed]",
      "text/plain": [
       "<Figure size 640x480 with 1 Axes>"
      ]
     },
     "metadata": {},
     "output_type": "display_data"
    }
   ],
   "source": [
    "ax = sns.barplot(data = extracted_data, x = 'Substance', y = 'Relative', hue = 'Concentration')\n",
    "ax.set(xlabel='Substance', ylabel='Viable cell, % of control')\n",
    "\n",
    "annotator = Annotator(ax, pairs, data=extracted_data, x = 'Substance', y = 'Relative', hue = 'Concentration')\n",
    "annotator.configure(test='Mann-Whitney', text_format='star', loc='inside', comparisons_correction=\"Bonferroni\")\n",
    "annotator.apply_and_annotate()\n",
    "\n"
   ]
  }
 ],
 "metadata": {
  "kernelspec": {
   "display_name": "Python 3",
   "language": "python",
   "name": "python3"
  },
  "language_info": {
   "codemirror_mode": {
    "name": "ipython",
    "version": 3
   },
   "file_extension": ".py",
   "mimetype": "text/x-python",
   "name": "python",
   "nbconvert_exporter": "python",
   "pygments_lexer": "ipython3",
   "version": "3.10.8"
  },
  "orig_nbformat": 4
 },
 "nbformat": 4,
 "nbformat_minor": 2
}
