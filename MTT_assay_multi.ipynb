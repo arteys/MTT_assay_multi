{
 "cells": [
  {
   "cell_type": "code",
   "execution_count": 1,
   "metadata": {},
   "outputs": [],
   "source": [
    "import pandas as pd\n",
    "import seaborn as sns\n",
    "from statannotations.Annotator import Annotator\n",
    "import os\n",
    "from os import walk\n",
    "import matplotlib.pylab as plt\n"
   ]
  },
  {
   "cell_type": "code",
   "execution_count": 2,
   "metadata": {},
   "outputs": [],
   "source": [
    "def excel_to_pd(data_pd,data_pd_i,current_pd, cell_type, substance):\n",
    "\n",
    "    for label, content in current_pd.items():\n",
    "       \n",
    "\n",
    "        data_pd_i['OD'] = content\n",
    "        data_pd_i['Cell_type'] = cell_type\n",
    "        data_pd_i['Substance'] = substance\n",
    "        data_pd_i['Concentration'] = label\n",
    "\n",
    "        data_pd = pd.concat([data_pd,data_pd_i])\n",
    "    return data_pd"
   ]
  },
  {
   "cell_type": "code",
   "execution_count": 3,
   "metadata": {},
   "outputs": [
    {
     "name": "stdout",
     "output_type": "stream",
     "text": [
      "['C:\\\\Users\\\\Modern\\\\Desktop\\\\Бельская\\\\Converted\\\\csv\\\\GA-520.csv', 'C:\\\\Users\\\\Modern\\\\Desktop\\\\Бельская\\\\Converted\\\\csv\\\\GA-533.csv', 'C:\\\\Users\\\\Modern\\\\Desktop\\\\Бельская\\\\Converted\\\\csv\\\\GA-614.csv']\n"
     ]
    }
   ],
   "source": [
    "\n",
    "folder_path = \"C:\\\\Users\\\\Modern\\\\Desktop\\\\Бельская\\\\Converted\\\\csv\"\n",
    "\n",
    "files = []\n",
    "for (dirpath, dirnames, filenames) in walk(folder_path):\n",
    "    for file in filenames:\n",
    "        files.append(os.path.join(dirpath, file))\n",
    "\n",
    "print(files)"
   ]
  },
  {
   "cell_type": "code",
   "execution_count": 4,
   "metadata": {},
   "outputs": [],
   "source": [
    "labels = {'OD':[],'Cell_type':[],'Substance':[],'Concentration':[]}\n",
    "data_pd = pd.DataFrame(labels)\n",
    "data_pd_i = pd.DataFrame(labels)\n",
    "\n",
    "for file in files:\n",
    "   file_name_ext = os.path.basename(file)\n",
    "   file_name,extention = file_name_ext.split(\".\")\n",
    "\n",
    "   file_raw = pd.read_csv(file) \n",
    "\n",
    "   data_pd = excel_to_pd(data_pd,data_pd_i,file_raw,'Vero',file_name)\n",
    "\n",
    "# print(file_raw)"
   ]
  },
  {
   "cell_type": "code",
   "execution_count": 5,
   "metadata": {},
   "outputs": [
    {
     "data": {
      "text/plain": [
       "<AxesSubplot: xlabel='Substance', ylabel='OD'>"
      ]
     },
     "execution_count": 5,
     "metadata": {},
     "output_type": "execute_result"
    },
    {
     "data": {
      "image/png": "[encoded data removed]",
      "text/plain": [
       "<Figure size 640x480 with 1 Axes>"
      ]
     },
     "metadata": {},
     "output_type": "display_data"
    }
   ],
   "source": [
    "data_ext = data_pd[(data_pd['Cell_type'] == 'Vero')].copy()\n",
    "\n",
    "sns.barplot(data = data_ext, x = 'Substance', y = 'OD', hue = 'Concentration')"
   ]
  },
  {
   "attachments": {},
   "cell_type": "markdown",
   "metadata": {},
   "source": [
    "Blank subtraction"
   ]
  },
  {
   "cell_type": "code",
   "execution_count": 6,
   "metadata": {},
   "outputs": [
    {
     "name": "stdout",
     "output_type": "stream",
     "text": [
      "['10-4' '10-5' '10-6' 'Control']\n",
      "['GA-520' 'GA-533' 'GA-614']\n"
     ]
    }
   ],
   "source": [
    "unique_substances= data_pd['Concentration'].unique()\n",
    "\n",
    "unique_concentrations= data_pd['Substance'].unique()\n",
    "\n",
    "print(unique_substances)\n",
    "\n",
    "print(unique_concentrations)\n",
    "\n"
   ]
  },
  {
   "cell_type": "code",
   "execution_count": 32,
   "metadata": {},
   "outputs": [
    {
     "name": "stdout",
     "output_type": "stream",
     "text": [
      "OD    0.113625\n",
      "dtype: float64\n",
      "       OD Cell_type Substance Concentration  OD_blank_correcetd\n",
      "0   0.117      Vero    GA-614          10-4            0.003375\n",
      "1   0.113      Vero    GA-614          10-4           -0.000625\n",
      "2   0.119      Vero    GA-614          10-4            0.005375\n",
      "3   0.110      Vero    GA-614          10-4           -0.003625\n",
      "4   0.119      Vero    GA-614          10-4            0.005375\n",
      "..    ...       ...       ...           ...                 ...\n",
      "19  0.155      Vero    GA-614       Control            0.041375\n",
      "20  0.147      Vero    GA-614       Control            0.033375\n",
      "21  0.160      Vero    GA-614       Control            0.046375\n",
      "22  0.167      Vero    GA-614       Control            0.053375\n",
      "23  0.184      Vero    GA-614       Control            0.070375\n",
      "\n",
      "[96 rows x 5 columns]\n"
     ]
    },
    {
     "name": "stderr",
     "output_type": "stream",
     "text": [
      "C:\\Users\\Modern\\AppData\\Local\\Temp\\ipykernel_21928\\3747054040.py:3: FutureWarning: The default value of numeric_only in DataFrame.mean is deprecated. In a future version, it will default to False. In addition, specifying 'numeric_only=None' is deprecated. Select only valid columns or specify the value of numeric_only to silence this warning.\n",
      "  high_concentration_OD = data_pd[(data_pd['Concentration'] == '10-4') & (data_pd['Substance'] == 'GA-614')].mean()\n"
     ]
    }
   ],
   "source": [
    "data_extracted_substance = data_pd[(data_pd['Substance'] == 'GA-614')].copy() \n",
    "\n",
    "high_concentration_OD = data_pd[(data_pd['Concentration'] == '10-4') & (data_pd['Substance'] == 'GA-614')].mean()\n",
    "\n",
    "print(high_concentration_OD)\n",
    "\n",
    "blank = high_concentration_OD.iloc[0]\n",
    "\n",
    "data_extracted_substance['OD_blank_correcetd'] = data_extracted_substance['OD'] - blank\n",
    "\n",
    "print(data_extracted_substance)\n",
    "\n"
   ]
  },
  {
   "attachments": {},
   "cell_type": "markdown",
   "metadata": {},
   "source": [
    "Recalculation to relative values:"
   ]
  },
  {
   "cell_type": "code",
   "execution_count": 33,
   "metadata": {},
   "outputs": [
    {
     "name": "stdout",
     "output_type": "stream",
     "text": [
      "       OD    Relative Substance Concentration  OD_blank_correcetd Cell_type\n",
      "0   0.117    6.323185    GA-614          10-4            0.003375      Vero\n",
      "1   0.113   -1.170960    GA-614          10-4           -0.000625      Vero\n",
      "2   0.119   10.070258    GA-614          10-4            0.005375      Vero\n",
      "3   0.110   -6.791569    GA-614          10-4           -0.003625      Vero\n",
      "4   0.119   10.070258    GA-614          10-4            0.005375      Vero\n",
      "..    ...         ...       ...           ...                 ...       ...\n",
      "19  0.155   77.517564    GA-614       Control            0.041375      Vero\n",
      "20  0.147   62.529274    GA-614       Control            0.033375      Vero\n",
      "21  0.160   86.885246    GA-614       Control            0.046375      Vero\n",
      "22  0.167  100.000000    GA-614       Control            0.053375      Vero\n",
      "23  0.184  131.850117    GA-614       Control            0.070375      Vero\n",
      "\n",
      "[96 rows x 6 columns]\n"
     ]
    }
   ],
   "source": [
    "# data_ext = data_pd[(data_pd['Cell_type'] == 'Vero')].copy()\n",
    "substances_list = data_pd['Substance'].unique()\n",
    "\n",
    "labels = {'OD':[],'Relative':[],'Substance':[],'Concentration':[], 'OD_blank_correcetd':[]}\n",
    "data = pd.DataFrame(labels)\n",
    "\n",
    "for substance in substances_list:\n",
    "    data_i = data_extracted_substance[(data_extracted_substance['Substance'] == substance)]\n",
    "    control_mean = data_i.loc[data_i['Concentration']=='Control', 'OD_blank_correcetd'].mean()\n",
    "    data_i['Relative'] = data_i['OD_blank_correcetd']/control_mean*100\n",
    "    data = pd.concat([data,data_i])\n",
    "  \n",
    "print(data)"
   ]
  },
  {
   "cell_type": "code",
   "execution_count": 34,
   "metadata": {},
   "outputs": [
    {
     "name": "stdout",
     "output_type": "stream",
     "text": [
      "[(('GA-614', '10-4'), ('GA-614', 'Control')), (('GA-614', '10-5'), ('GA-614', 'Control')), (('GA-614', '10-6'), ('GA-614', 'Control')), (('GA-614', 'Control'), ('GA-614', 'Control'))]\n"
     ]
    }
   ],
   "source": [
    "\n",
    "extracted_data = data[(data['Substance'] == 'GA-614')].copy()\n",
    "\n",
    "unique_concentrations= extracted_data['Concentration'].unique()\n",
    "unique_substances= extracted_data['Substance'].unique()\n",
    "\n",
    "pairs = []\n",
    "for subst in unique_substances:\n",
    "    for conc in unique_concentrations:\n",
    "        # if conc == 'Control':\n",
    "        #     break\n",
    "        pairs.append(((subst,conc),(subst,'Control')))\n",
    "        \n",
    "\n",
    "print(pairs)\n"
   ]
  },
  {
   "cell_type": "code",
   "execution_count": 35,
   "metadata": {},
   "outputs": [
    {
     "name": "stdout",
     "output_type": "stream",
     "text": [
      "p-value annotation legend:\n",
      "      ns: p <= 1.00e+00\n",
      "       *: 1.00e-02 < p <= 5.00e-02\n",
      "      **: 1.00e-03 < p <= 1.00e-02\n",
      "     ***: 1.00e-04 < p <= 1.00e-03\n",
      "    ****: p <= 1.00e-04\n",
      "\n",
      "GA-614_Control vs. GA-614_Control: Mann-Whitney-Wilcoxon test two-sided with Bonferroni correction, P_val:1.000e+00 U_stat=2.880e+02\n",
      "GA-614_10-6 vs. GA-614_Control: Mann-Whitney-Wilcoxon test two-sided with Bonferroni correction, P_val:1.631e-06 U_stat=4.200e+01\n",
      "GA-614_10-5 vs. GA-614_Control: Mann-Whitney-Wilcoxon test two-sided with Bonferroni correction, P_val:1.198e-08 U_stat=0.000e+00\n",
      "GA-614_10-4 vs. GA-614_Control: Mann-Whitney-Wilcoxon test two-sided with Bonferroni correction, P_val:1.208e-08 U_stat=0.000e+00\n"
     ]
    },
    {
     "data": {
      "text/plain": [
       "(<AxesSubplot: ylabel='Viable cell, % of control'>,\n",
       " [<statannotations.Annotation.Annotation at 0x2280b0eea40>,\n",
       "  <statannotations.Annotation.Annotation at 0x2280b12f430>,\n",
       "  <statannotations.Annotation.Annotation at 0x2280b12f4c0>,\n",
       "  <statannotations.Annotation.Annotation at 0x2280b12f850>])"
      ]
     },
     "execution_count": 35,
     "metadata": {},
     "output_type": "execute_result"
    },
    {
     "data": {
      "image/png": "[encoded data removed]",
      "text/plain": [
       "<Figure size 400x500 with 1 Axes>"
      ]
     },
     "metadata": {},
     "output_type": "display_data"
    }
   ],
   "source": [
    "ax = sns.barplot(data = extracted_data, x = 'Substance', y = 'Relative', hue = 'Concentration',palette='bright')\n",
    "\n",
    "sns.set_style(\"dark\")\n",
    "sns.set(rc={'figure.figsize':(4,5)})\n",
    "\n",
    "ax.legend(loc='lower right', title='Concentration')\n",
    "plt.setp(ax.get_legend().get_texts(), fontsize='15') \n",
    "plt.setp(ax.get_legend().get_title(), fontsize='15') \n",
    "\n",
    "ax.set(xlabel=None, ylabel='Viable cell, % of control')\n",
    "ax.set(xticklabels=[])\n",
    "ax.yaxis.get_label().set_fontsize(19)\n",
    "ax.xaxis.get_label().set_fontsize(19)\n",
    "ax.tick_params(axis='y', which='major', labelsize=14)\n",
    "\n",
    "annotator = Annotator(ax, pairs, data=extracted_data, x = 'Substance', y = 'Relative', hue = 'Concentration')\n",
    "annotator.configure(test='Mann-Whitney', text_format='star', loc='inside', comparisons_correction=\"Bonferroni\")\n",
    "annotator.apply_and_annotate()\n",
    "\n"
   ]
  }
 ],
 "metadata": {
  "kernelspec": {
   "display_name": "Python 3",
   "language": "python",
   "name": "python3"
  },
  "language_info": {
   "codemirror_mode": {
    "name": "ipython",
    "version": 3
   },
   "file_extension": ".py",
   "mimetype": "text/x-python",
   "name": "python",
   "nbconvert_exporter": "python",
   "pygments_lexer": "ipython3",
   "version": "3.10.8"
  },
  "orig_nbformat": 4
 },
 "nbformat": 4,
 "nbformat_minor": 2
}
