{
 "cells": [
  {
   "cell_type": "code",
   "execution_count": null,
   "metadata": {},
   "outputs": [],
   "source": [
    "import pandas as pd\n",
    "import seaborn as sns\n",
    "from statannotations.Annotator import Annotator\n",
    "import os\n",
    "from os import walk\n",
    "import matplotlib.pylab as plt\n",
    "from itertools import combinations"
   ]
  },
  {
   "cell_type": "code",
   "execution_count": null,
   "metadata": {},
   "outputs": [],
   "source": [
    "def excel_to_pd(data_pd,data_pd_i,current_pd, cell_type, substance):\n",
    "\n",
    "    for label, content in current_pd.items():\n",
    "       \n",
    "\n",
    "        data_pd_i['OD'] = content\n",
    "        data_pd_i['Cell_type'] = cell_type\n",
    "        data_pd_i['Substance'] = substance\n",
    "        if label == '10-4':\n",
    "            data_pd_i['Concentration'] = '1 * $10^{-4}$M'\n",
    "        if label == '10-5':\n",
    "            data_pd_i['Concentration'] = '1 * $10^{-5}$M'\n",
    "        if label == '10-6':\n",
    "            data_pd_i['Concentration'] = '1 * $10^{-6}$M'\n",
    "        if label == '10-7':\n",
    "            data_pd_i['Concentration'] = '1 * $10^{-7}$M'\n",
    "        if label == 'Control':\n",
    "            data_pd_i['Concentration'] = 'Control'\n",
    "        if label == 'Blank':\n",
    "            data_pd_i['Concentration'] = 'Blank'\n",
    "\n",
    "\n",
    "        data_pd = pd.concat([data_pd,data_pd_i])\n",
    "    return data_pd"
   ]
  },
  {
   "cell_type": "code",
   "execution_count": null,
   "metadata": {},
   "outputs": [],
   "source": [
    "\n",
    "folder_path = 'C:\\\\Users\\\\Modern\\\\Desktop\\\\Бельская\\\\Converted_blank'\n",
    "\n",
    "files = []\n",
    "for (dirpath, dirnames, filenames) in walk(folder_path):\n",
    "    for file in filenames:\n",
    "        files.append(os.path.join(dirpath, file))\n",
    "\n",
    "print(files)"
   ]
  },
  {
   "cell_type": "code",
   "execution_count": null,
   "metadata": {},
   "outputs": [],
   "source": [
    "labels = {'OD':[],'Cell_type':[],'Substance':[],'Concentration':[]}\n",
    "data_pd = pd.DataFrame(labels)\n",
    "data_pd_i = pd.DataFrame(labels)\n",
    "\n",
    "for file in files:\n",
    "   file_name_ext = os.path.basename(file)\n",
    "   file_name,extention = file_name_ext.split(\".\")\n",
    "\n",
    "   if '.csv' in file_name_ext:\n",
    "      print(file)\n",
    "      file_raw = pd.read_csv(file) \n",
    "   \n",
    "   if '.xlsx' in file_name_ext:\n",
    "      file_raw = pd.read_excel(file) \n",
    "      print(file)\n",
    "\n",
    "   data_pd = excel_to_pd(data_pd,data_pd_i,file_raw,'Vero',file_name)\n",
    "\n",
    "print(data_pd)"
   ]
  },
  {
   "cell_type": "code",
   "execution_count": 61,
   "metadata": {},
   "outputs": [
    {
     "name": "stdout",
     "output_type": "stream",
     "text": [
      "['1 * $10^{-4}$M' '1 * $10^{-5}$M' '1 * $10^{-6}$M' 'Control' 'Blank']\n",
      "['24-08-2023 BSN1a' '24-08-2023 BSN1b' '24-08-2023 BSN2a'\n",
      " '24-08-2023 BSN2b']\n"
     ]
    }
   ],
   "source": [
    "unique_substances= data_pd['Concentration'].unique()\n",
    "\n",
    "unique_concentrations= data_pd['Substance'].unique()\n",
    "\n",
    "print(unique_substances)\n",
    "\n",
    "print(unique_concentrations)"
   ]
  },
  {
   "cell_type": "code",
   "execution_count": 62,
   "metadata": {},
   "outputs": [
    {
     "name": "stdout",
     "output_type": "stream",
     "text": [
      "       OD Cell_type         Substance   Concentration  OD_blank_correcetd\n",
      "0     NaN      Vero  24-08-2023 BSN1b  1 * $10^{-4}$M                 NaN\n",
      "1   0.246      Vero  24-08-2023 BSN1b  1 * $10^{-4}$M              0.0745\n",
      "2   0.257      Vero  24-08-2023 BSN1b  1 * $10^{-4}$M              0.0855\n",
      "3   0.226      Vero  24-08-2023 BSN1b  1 * $10^{-4}$M              0.0545\n",
      "4   0.201      Vero  24-08-2023 BSN1b  1 * $10^{-4}$M              0.0295\n",
      "..    ...       ...               ...             ...                 ...\n",
      "19  0.175      Vero  24-08-2023 BSN1b         Control              0.0035\n",
      "20  0.230      Vero  24-08-2023 BSN1b         Control              0.0585\n",
      "21  0.230      Vero  24-08-2023 BSN1b         Control              0.0585\n",
      "22  0.279      Vero  24-08-2023 BSN1b         Control              0.1075\n",
      "23  0.096      Vero  24-08-2023 BSN1b         Control             -0.0755\n",
      "\n",
      "[96 rows x 5 columns]\n"
     ]
    },
    {
     "name": "stderr",
     "output_type": "stream",
     "text": [
      "C:\\Users\\Modern\\AppData\\Local\\Temp\\ipykernel_3908\\2871057822.py:2: FutureWarning: The default value of numeric_only in DataFrame.mean is deprecated. In a future version, it will default to False. In addition, specifying 'numeric_only=None' is deprecated. Select only valid columns or specify the value of numeric_only to silence this warning.\n",
      "  blank = data_extracted_substance[(data_extracted_substance['Concentration'] == 'Blank')].mean().to_numpy()\n"
     ]
    }
   ],
   "source": [
    "data_extracted_substance = data_pd[(data_pd['Substance'] == '24-08-2023 BSN1b')].copy() \n",
    "blank = data_extracted_substance[(data_extracted_substance['Concentration'] == 'Blank')].mean().to_numpy()\n",
    "\n",
    "data_extracted_substance['OD'].dropna(inplace=True)\n",
    "\n",
    "data_extracted_substance['OD_blank_correcetd'] = data_extracted_substance['OD'] - blank\n",
    "\n",
    "# data_extracted_substance.drop('Blank', axis=1, inplace=True)\n",
    "\n",
    "data_extracted_substance = data_extracted_substance[data_extracted_substance['Concentration'] != 'Blank']\n",
    "\n",
    "print(data_extracted_substance)"
   ]
  },
  {
   "cell_type": "code",
   "execution_count": 63,
   "metadata": {},
   "outputs": [
    {
     "name": "stdout",
     "output_type": "stream",
     "text": [
      "       OD    Relative         Substance   Concentration Cell_type  \\\n",
      "0     NaN         NaN  24-08-2023 BSN1b  1 * $10^{-4}$M      Vero   \n",
      "1   0.246  184.743935  24-08-2023 BSN1b  1 * $10^{-4}$M      Vero   \n",
      "2   0.257  212.021563  24-08-2023 BSN1b  1 * $10^{-4}$M      Vero   \n",
      "3   0.226  135.148248  24-08-2023 BSN1b  1 * $10^{-4}$M      Vero   \n",
      "4   0.201   73.153639  24-08-2023 BSN1b  1 * $10^{-4}$M      Vero   \n",
      "..    ...         ...               ...             ...       ...   \n",
      "19  0.175    8.679245  24-08-2023 BSN1b         Control      Vero   \n",
      "20  0.230  145.067385  24-08-2023 BSN1b         Control      Vero   \n",
      "21  0.230  145.067385  24-08-2023 BSN1b         Control      Vero   \n",
      "22  0.279  266.576819  24-08-2023 BSN1b         Control      Vero   \n",
      "23  0.096 -187.223720  24-08-2023 BSN1b         Control      Vero   \n",
      "\n",
      "    OD_blank_correcetd  \n",
      "0                  NaN  \n",
      "1               0.0745  \n",
      "2               0.0855  \n",
      "3               0.0545  \n",
      "4               0.0295  \n",
      "..                 ...  \n",
      "19              0.0035  \n",
      "20              0.0585  \n",
      "21              0.0585  \n",
      "22              0.1075  \n",
      "23             -0.0755  \n",
      "\n",
      "[96 rows x 6 columns]\n"
     ]
    }
   ],
   "source": [
    "# data_ext = data_pd[(data_pd['Cell_type'] == 'Vero')].copy()\n",
    "substances_list = data_pd['Substance'].unique()\n",
    "\n",
    "labels = {'OD':[],'Relative':[],'Substance':[],'Concentration':[]}\n",
    "data = pd.DataFrame(labels)\n",
    "\n",
    "for substance in substances_list:\n",
    "    data_i = data_extracted_substance[(data_extracted_substance['Substance'] == substance)]\n",
    "    control_mean = data_i.loc[data_i['Concentration']=='Control', 'OD_blank_correcetd'].mean()\n",
    "    data_i['Relative'] = data_i['OD_blank_correcetd']/control_mean*100\n",
    "    data = pd.concat([data,data_i])\n",
    "  \n",
    "print(data)"
   ]
  },
  {
   "cell_type": "code",
   "execution_count": 64,
   "metadata": {},
   "outputs": [
    {
     "name": "stdout",
     "output_type": "stream",
     "text": [
      "[(('24-08-2023 BSN1b', '1 * $10^{-4}$M'), ('24-08-2023 BSN1b', 'Control')), (('24-08-2023 BSN1b', '1 * $10^{-5}$M'), ('24-08-2023 BSN1b', 'Control')), (('24-08-2023 BSN1b', '1 * $10^{-6}$M'), ('24-08-2023 BSN1b', 'Control')), (('24-08-2023 BSN1b', 'Control'), ('24-08-2023 BSN1b', 'Control'))]\n"
     ]
    }
   ],
   "source": [
    "\n",
    "\n",
    "unique_concentrations= data['Concentration'].unique()\n",
    "unique_substances= data['Substance'].unique()\n",
    "\n",
    "pairs = []\n",
    "for subst in unique_substances:\n",
    "    for conc in unique_concentrations:\n",
    "        # if conc == 'Control':\n",
    "        #     break\n",
    "        pairs.append(((subst,conc),(subst,'Control')))\n",
    "        \n",
    "\n",
    "print(pairs)"
   ]
  },
  {
   "cell_type": "code",
   "execution_count": 65,
   "metadata": {},
   "outputs": [
    {
     "name": "stdout",
     "output_type": "stream",
     "text": [
      "       OD    Relative         Substance   Concentration Cell_type  \\\n",
      "0     NaN         NaN  24-08-2023 BSN1b  1 * $10^{-4}$M      Vero   \n",
      "1   0.246  184.743935  24-08-2023 BSN1b  1 * $10^{-4}$M      Vero   \n",
      "2   0.257  212.021563  24-08-2023 BSN1b  1 * $10^{-4}$M      Vero   \n",
      "3   0.226  135.148248  24-08-2023 BSN1b  1 * $10^{-4}$M      Vero   \n",
      "4   0.201   73.153639  24-08-2023 BSN1b  1 * $10^{-4}$M      Vero   \n",
      "..    ...         ...               ...             ...       ...   \n",
      "19  0.175    8.679245  24-08-2023 BSN1b         Control      Vero   \n",
      "20  0.230  145.067385  24-08-2023 BSN1b         Control      Vero   \n",
      "21  0.230  145.067385  24-08-2023 BSN1b         Control      Vero   \n",
      "22  0.279  266.576819  24-08-2023 BSN1b         Control      Vero   \n",
      "23  0.096 -187.223720  24-08-2023 BSN1b         Control      Vero   \n",
      "\n",
      "    OD_blank_correcetd  \n",
      "0                  NaN  \n",
      "1               0.0745  \n",
      "2               0.0855  \n",
      "3               0.0545  \n",
      "4               0.0295  \n",
      "..                 ...  \n",
      "19              0.0035  \n",
      "20              0.0585  \n",
      "21              0.0585  \n",
      "22              0.1075  \n",
      "23             -0.0755  \n",
      "\n",
      "[96 rows x 6 columns]\n",
      "p-value annotation legend:\n",
      "      ns: p <= 1.00e+00\n",
      "       *: 1.00e-02 < p <= 5.00e-02\n",
      "      **: 1.00e-03 < p <= 1.00e-02\n",
      "     ***: 1.00e-04 < p <= 1.00e-03\n",
      "    ****: p <= 1.00e-04\n",
      "\n",
      "24-08-2023 BSN1b_Control vs. 24-08-2023 BSN1b_Control: Kruskal-Wallis independent samples (pairwise between groups) with Bonferroni correction, P_val:1.000e+00 Stat=0.000e+00\n",
      "24-08-2023 BSN1b_1 * $10^{-6}$M vs. 24-08-2023 BSN1b_Control: Kruskal-Wallis independent samples (pairwise between groups) with Bonferroni correction, P_val:1.043e-01 Stat=4.951e+00\n",
      "24-08-2023 BSN1b_1 * $10^{-5}$M vs. 24-08-2023 BSN1b_Control: Kruskal-Wallis independent samples (pairwise between groups) with Bonferroni correction, P_val:5.908e-01 Stat=2.096e+00\n",
      "24-08-2023 BSN1b_1 * $10^{-4}$M vs. 24-08-2023 BSN1b_Control: Kruskal-Wallis independent samples (pairwise between groups) with Bonferroni correction, P_val:1.000e+00 Stat=5.791e-01\n"
     ]
    },
    {
     "data": {
      "text/plain": [
       "(<AxesSubplot: ylabel='Viable cell, % of control'>,\n",
       " [<statannotations.Annotation.Annotation at 0x2125ed07fd0>,\n",
       "  <statannotations.Annotation.Annotation at 0x2125ed2bc40>,\n",
       "  <statannotations.Annotation.Annotation at 0x2125ed2ba30>,\n",
       "  <statannotations.Annotation.Annotation at 0x2125ed2bd30>])"
      ]
     },
     "execution_count": 65,
     "metadata": {},
     "output_type": "execute_result"
    },
    {
     "data": {
      "image/png": "[encoded data removed]",
      "text/plain": [
       "<Figure size 400x500 with 1 Axes>"
      ]
     },
     "metadata": {},
     "output_type": "display_data"
    }
   ],
   "source": [
    "ax = sns.barplot(data = data, x = 'Substance', y = 'Relative', hue = 'Concentration',palette='bright')\n",
    "\n",
    "print(data)\n",
    "\n",
    "sns.set_style(\"dark\")\n",
    "sns.set(rc={'figure.figsize':(4,5)})\n",
    "\n",
    "ax.legend(loc='upper left', title='Concentration')\n",
    "plt.setp(ax.get_legend().get_texts(), fontsize='15') \n",
    "plt.setp(ax.get_legend().get_title(), fontsize='15') \n",
    "\n",
    "ax.set(xlabel=None, ylabel='Viable cell, % of control')\n",
    "ax.set(xticklabels=[])\n",
    "ax.yaxis.get_label().set_fontsize(19)\n",
    "ax.xaxis.get_label().set_fontsize(19)\n",
    "ax.tick_params(axis='y', which='major', labelsize=14)\n",
    "\n",
    "annotator = Annotator(ax, pairs, data=data, x = 'Substance', y = 'Relative', hue = 'Concentration')\n",
    "annotator.configure(test='Kruskal', text_format='star', loc='inside', comparisons_correction=\"Bonferroni\")\n",
    "annotator.apply_and_annotate()"
   ]
  }
 ],
 "metadata": {
  "kernelspec": {
   "display_name": "Python 3",
   "language": "python",
   "name": "python3"
  },
  "language_info": {
   "codemirror_mode": {
    "name": "ipython",
    "version": 3
   },
   "file_extension": ".py",
   "mimetype": "text/x-python",
   "name": "python",
   "nbconvert_exporter": "python",
   "pygments_lexer": "ipython3",
   "version": "3.10.8"
  },
  "orig_nbformat": 4
 },
 "nbformat": 4,
 "nbformat_minor": 2
}
